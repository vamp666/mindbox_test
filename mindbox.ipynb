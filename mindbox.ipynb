{
 "cells": [
  {
   "cell_type": "markdown",
   "id": "bcce6093",
   "metadata": {},
   "source": [
    "<h1><center>Тестовое задание Mindbox</center></h1>"
   ]
  },
  {
   "cell_type": "markdown",
   "id": "7849bc1e",
   "metadata": {},
   "source": [
    "### Влад Троцкий"
   ]
  },
  {
   "cell_type": "markdown",
   "id": "450c9360",
   "metadata": {},
   "source": [
    "**Текст задания:**\n",
    "\n",
    "Нашей компании нужно сгруппировать клиентов для АБ-тестов. Алгоритм группировки очень простой - взять ID клиента (состоит из 5-7 цифр, например 7412567) и найти сумму всех его цифр. Получившееся число и является номером группы, в которую входит данный клиент.\n",
    "\n",
    "Для того, чтобы понять, насколько хорош такой простой алгоритм, тебе нужно написать следующие диагностические функции:\n",
    "\n",
    "1. Функция, которая подсчитывает число покупателей, попадающих в каждую группу, если нумерация ID сквозная и начинается с 0. На вход функция получает целое число n_customers (количество клиентов).\n",
    "2. Функция, аналогичная первой, если ID начинается с произвольного числа. На вход функция получает целые числа: n_customers (количество клиентов) и n_first_id (первый ID в последовательности).\n",
    "\n",
    "*Напишите код функций на Python и оформите его в репозиторий Github. В форму ответа вставьте ссылку на репозиторий, убедитесь, что он публичный.*\n",
    "\n",
    "*Дополнительно к работоспособности оценим:*\n",
    "\n",
    "- читабельность и аккуратность кода;\n",
    "- производительность кода."
   ]
  },
  {
   "cell_type": "markdown",
   "id": "fd996fdc",
   "metadata": {},
   "source": [
    "### 1. Функция для распределения по группам покупателей, ID которых начинается с 0."
   ]
  },
  {
   "cell_type": "markdown",
   "id": "77fbcc95",
   "metadata": {},
   "source": [
    "Объявление функции.\n",
    "\n",
    "Я буду использовать словарь для записи названия группы, как ключа, а количество покупателей в группе, как значение."
   ]
  },
  {
   "cell_type": "code",
   "execution_count": 55,
   "id": "d5cd1690",
   "metadata": {},
   "outputs": [],
   "source": [
    "def end_to_end_numbering(n_customers):\n",
    "    final = dict()                                    #Создание пустого словаря. \n",
    "    for i in range(n_customers):                      #Цикл for для перебора значений ID покупателей, начиная с 0.\n",
    "        name_of_group = str(sum(map(int, str(i))))    #Получаю название групп разбиением чисел на цифры и их суммированием.\n",
    "        if name_of_group in final.keys():             #Проверяю наличие названия группы среди уже существующих ключей словаря.\n",
    "            final[name_of_group] += 1                 #Если True, инкрементирую значение существующей записи.\n",
    "        else:\n",
    "            final[name_of_group] = 1                  #В противном случае создаю новую запись с новым ключом и значением 1.\n",
    "    return final                                      #Возвращаю словарь."
   ]
  },
  {
   "cell_type": "markdown",
   "id": "82dd39cc",
   "metadata": {},
   "source": [
    "**Результат:**"
   ]
  },
  {
   "cell_type": "code",
   "execution_count": 61,
   "id": "d074931b",
   "metadata": {},
   "outputs": [
    {
     "data": {
      "text/plain": [
       "{'0': 1,\n",
       " '1': 2,\n",
       " '2': 3,\n",
       " '3': 4,\n",
       " '4': 5,\n",
       " '5': 6,\n",
       " '6': 7,\n",
       " '7': 8,\n",
       " '8': 9,\n",
       " '9': 10,\n",
       " '10': 9,\n",
       " '11': 8,\n",
       " '12': 7,\n",
       " '13': 6,\n",
       " '14': 5,\n",
       " '15': 4,\n",
       " '16': 3,\n",
       " '17': 2,\n",
       " '18': 1}"
      ]
     },
     "execution_count": 61,
     "metadata": {},
     "output_type": "execute_result"
    }
   ],
   "source": [
    "end_to_end_numbering(100)"
   ]
  },
  {
   "cell_type": "markdown",
   "id": "ec1371d3",
   "metadata": {},
   "source": [
    "### 2. Функция для распределения по группам покупателей, ID которых начинается с произвольного числа."
   ]
  },
  {
   "cell_type": "markdown",
   "id": "931eae09",
   "metadata": {},
   "source": [
    "В целом функция действует по той же логике за исключением дополнительного аргумента n_first_id, который будет использоваться в функции .range()."
   ]
  },
  {
   "cell_type": "code",
   "execution_count": 53,
   "id": "c0177ed5",
   "metadata": {},
   "outputs": [],
   "source": [
    "def random_numbering(n_customers, n_first_id):                 # Аргументы передаются в порядке, указанном в задании!\n",
    "    final = dict()\n",
    "    for i in range(n_first_id, n_customers + n_first_id):      #Отсчет начинается с n_first_id и продолжается до значения,\n",
    "        name_of_group = str(sum(map(int, str(i))))             #превышающего первый ID на значение n_customers.\n",
    "        if name_of_group in final.keys():\n",
    "            final[name_of_group] += 1\n",
    "        else:\n",
    "            final[name_of_group] = 1\n",
    "    return final"
   ]
  },
  {
   "cell_type": "markdown",
   "id": "d5351dfb",
   "metadata": {},
   "source": [
    "**Результат:**"
   ]
  },
  {
   "cell_type": "code",
   "execution_count": 65,
   "id": "1cb358b1",
   "metadata": {},
   "outputs": [
    {
     "data": {
      "text/plain": [
       "{'9': 10,\n",
       " '10': 10,\n",
       " '11': 9,\n",
       " '12': 8,\n",
       " '13': 7,\n",
       " '14': 6,\n",
       " '15': 5,\n",
       " '16': 4,\n",
       " '17': 3,\n",
       " '18': 2,\n",
       " '1': 1,\n",
       " '2': 2,\n",
       " '3': 3,\n",
       " '4': 4,\n",
       " '5': 5,\n",
       " '6': 6,\n",
       " '7': 7,\n",
       " '8': 8}"
      ]
     },
     "execution_count": 65,
     "metadata": {},
     "output_type": "execute_result"
    }
   ],
   "source": [
    "random_numbering(100, 90)"
   ]
  },
  {
   "cell_type": "markdown",
   "id": "626bd0ef",
   "metadata": {},
   "source": [
    "## Вывод."
   ]
  },
  {
   "cell_type": "markdown",
   "id": "153f2b6e",
   "metadata": {},
   "source": [
    "Таким образом, получены 2 функции, осуществляющие логику подсчета количества покупателей по группам в зависимости от ID."
   ]
  }
 ],
 "metadata": {
  "kernelspec": {
   "display_name": "Python 3 (ipykernel)",
   "language": "python",
   "name": "python3"
  },
  "language_info": {
   "codemirror_mode": {
    "name": "ipython",
    "version": 3
   },
   "file_extension": ".py",
   "mimetype": "text/x-python",
   "name": "python",
   "nbconvert_exporter": "python",
   "pygments_lexer": "ipython3",
   "version": "3.10.8"
  }
 },
 "nbformat": 4,
 "nbformat_minor": 5
}
